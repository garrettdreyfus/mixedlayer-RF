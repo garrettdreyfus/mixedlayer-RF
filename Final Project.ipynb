{
 "cells": [
  {
   "cell_type": "markdown",
   "id": "5bb4e054",
   "metadata": {},
   "source": [
    "# Necessary imports. The only tricky one is the holteandtalley pypi package which can be installed using `pip install holteandtalley`"
   ]
  },
  {
   "cell_type": "code",
   "execution_count": 1,
   "id": "84e73c35",
   "metadata": {},
   "outputs": [
    {
     "data": {
      "text/plain": [
       "''"
      ]
     },
     "execution_count": 1,
     "metadata": {},
     "output_type": "execute_result"
    }
   ],
   "source": [
    "import json\n",
    "import matplotlib.pyplot as plt\n",
    "import random\n",
    "import matplotlib\n",
    "import numpy as np\n",
    "import pandas as pd\n",
    "import pickle\n",
    "import gsw\n",
    "from os.path import basename\n",
    "from scipy import interpolate\n",
    "from sklearn.model_selection import train_test_split\n",
    "from sklearn.tree import DecisionTreeRegressor\n",
    "from sklearn.ensemble import RandomForestRegressor\n",
    "# Holte and Talley required \n",
    "from holteandtalley import HolteAndTalley\n",
    "np.random.seed(2)\n",
    ";"
   ]
  },
  {
   "cell_type": "markdown",
   "id": "fda412c9",
   "metadata": {},
   "source": [
    "# Read oceanographer identifications from pickle file. Make sure identifications.pickle and profiles.json are both in your working directory."
   ]
  },
  {
   "cell_type": "code",
   "execution_count": 2,
   "id": "0c118a50",
   "metadata": {},
   "outputs": [],
   "source": [
    "with open(\"identifications.pickle\",\"rb\") as f:\n",
    "    names = pickle.load(f)"
   ]
  },
  {
   "cell_type": "markdown",
   "id": "77f48a4a",
   "metadata": {},
   "source": [
    "# Extract input data and split it into testing and training data, preserving our testing fraction between high and low latitude data."
   ]
  },
  {
   "cell_type": "code",
   "execution_count": 3,
   "id": "5419af68",
   "metadata": {},
   "outputs": [],
   "source": [
    "def extract_argo_and_split(fname,training_size):\n",
    "    with open(fname) as f:\n",
    "        profiles = json.load(f)\n",
    "        training_size = 0.5\n",
    "        lowlatprofiles = []\n",
    "        highlatprofiles = []\n",
    "        for p in profiles:\n",
    "            if np.abs(p[\"lat\"])>60:\n",
    "                highlatprofiles.append(p)\n",
    "            else:\n",
    "                lowlatprofiles.append(p)\n",
    "        chosenlow = np.random.choice(len(lowlatprofiles), size=int(len(lowlatprofiles)*training_size), replace=False)\n",
    "        chosenhigh = np.random.choice(len(highlatprofiles), size=int(len(highlatprofiles)*training_size), replace=False)\n",
    "        lowmask = np.zeros_like(lowlatprofiles,bool)\n",
    "        lowmask[chosenlow] = True\n",
    "        highmask = np.zeros_like(highlatprofiles,bool)\n",
    "        highmask[chosenhigh] = True\n",
    "    return lowlatprofiles+highlatprofiles,np.concatenate((lowmask,highmask))\n"
   ]
  },
  {
   "cell_type": "markdown",
   "id": "c96426f4",
   "metadata": {},
   "source": [
    "# Helper functions to generate features from input data and assemble into matrix"
   ]
  },
  {
   "cell_type": "code",
   "execution_count": 4,
   "id": "0d340dc4",
   "metadata": {},
   "outputs": [],
   "source": [
    "def ht_features_reduced(profile):\n",
    "    d = interpolate.interp1d(profile[\"pressures\"],profile[\"densities\"])\n",
    "    xnew = np.arange(20, 150, 1)\n",
    "    densnew = d(xnew)\n",
    "    date = profile[\"date\"]\n",
    "    lon = profile[\"lon\"]\n",
    "    lat = profile[\"lat\"]\n",
    "    doy = int(date[5:7])*30 + int(date[8:10])\n",
    "    h = HolteAndTalley(profile[\"pressures\"],profile[\"temperatures\"],profile[\"salinities\"],profile[\"densities\"])\n",
    "    densfactors = [ h.density.MLTFITDensityPressure, h.density.DThresholdPressure] \n",
    "    tempfactors =[h.temp.TTMLDPressure]\n",
    "    return tempfactors + densfactors"
   ]
  },
  {
   "cell_type": "code",
   "execution_count": 5,
   "id": "34501d2d",
   "metadata": {},
   "outputs": [],
   "source": [
    "def create_training_data(profiles,chosenprofiles,names,feature_function=ht_features_reduced):\n",
    "    X = []\n",
    "    y = []\n",
    "    for profile in np.asarray(profiles)[chosenprofiles]:\n",
    "        if profile[\"name\"] in names.keys():\n",
    "            htp = np.asarray(feature_function(profile))\n",
    "            if len(names[profile[\"name\"]][\"depths\"]) >0:\n",
    "                X.append(np.asarray(htp))\n",
    "                y.append(np.nanmean(names[profile[\"name\"]][\"depths\"]))\n",
    "    return X,y\n",
    "\n"
   ]
  },
  {
   "cell_type": "markdown",
   "id": "56ece001",
   "metadata": {},
   "source": [
    "# Train regression model with a set random state"
   ]
  },
  {
   "cell_type": "code",
   "execution_count": 6,
   "id": "8a8805ad",
   "metadata": {},
   "outputs": [
    {
     "data": {
      "text/plain": [
       "RandomForestRegressor(n_jobs=5, oob_score=True, random_state=0)"
      ]
     },
     "execution_count": 6,
     "metadata": {},
     "output_type": "execute_result"
    }
   ],
   "source": [
    "profiles,chosenprofiles = extract_argo_and_split('profiles.json',0.25)\n",
    "X,y = create_training_data(profiles,chosenprofiles,names)\n",
    "y = np.asarray(y)\n",
    "X = np.asarray(X)\n",
    "## Random Forest\n",
    "### REALLY GOOD FOR SOME REASON\n",
    "regr = RandomForestRegressor(random_state=0, oob_score=True,n_jobs=5)\n",
    "regr.fit(X,y)\n"
   ]
  },
  {
   "cell_type": "markdown",
   "id": "f112b310",
   "metadata": {},
   "source": [
    "# Figure 1.) Mixed Layer identification by oceanographers and algorithms"
   ]
  },
  {
   "cell_type": "code",
   "execution_count": 7,
   "id": "8caf70b0",
   "metadata": {},
   "outputs": [
    {
     "data": {
      "image/png": "[encoded data removed]",
      "text/plain": [
       "<Figure size 432x576 with 1 Axes>"
      ]
     },
     "metadata": {
      "needs_background": "light"
     },
     "output_type": "display_data"
    }
   ],
   "source": [
    "def example_figure(profiles,names,eyed,mlmodel,feature_function):\n",
    "    X = []\n",
    "    y = []\n",
    "    for profile in profiles:\n",
    "        if eyed in profile[\"name\"]:\n",
    "            h = HolteAndTalley(profile[\"pressures\"],profile[\"temperatures\"],profile[\"salinities\"],profile[\"densities\"])\n",
    "            d = interpolate.interp1d(profile[\"pressures\"],profile[\"densities\"])\n",
    "            X = np.asarray([feature_function(profile)])\n",
    "            regr_out = np.round(mlmodel.predict(X)[0])\n",
    "            fig, ax = plt.subplots(figsize=(6,8))\n",
    "            ax.plot(profile[\"densities\"],profile[\"pressures\"])\n",
    "            ax.scatter(d(h.densityMLD),h.densityMLD,marker=\"s\",label=\"Holte and Talley\", color= \"green\")\n",
    "            ax.scatter(d(h.density.DThresholdPressure),h.density.DThresholdPressure,marker=\"x\",label=\"Density Threshold\", color= \"black\",s=100)\n",
    "            depths = np.asarray(names[profile[\"name\"]][\"depths\"])\n",
    "            ax.scatter(d(depths),depths,marker=\"*\",label=\"Visually Identified\",c=\"red\")\n",
    "            ax.legend()\n",
    "            ax.set_xlabel(\"Potential Density Anomaly (kg/m^3)\")\n",
    "            ax.set_ylabel(\"Pressure (dbar)\")\n",
    "            ax.set_ylim(0,300)\n",
    "            ax.invert_yaxis()\n",
    "\n",
    "example_figure(profiles,names,\"R6902637_097\",regr,ht_features_reduced)\n",
    "\n"
   ]
  },
  {
   "cell_type": "markdown",
   "id": "a37139d8",
   "metadata": {},
   "source": [
    "# Figure 3.) Boxplot showing ability of algorithms to predict mean visually identified mixed layer depth  "
   ]
  },
  {
   "cell_type": "code",
   "execution_count": 8,
   "id": "c9fbafb8",
   "metadata": {},
   "outputs": [],
   "source": [
    "def error_dist_figure(profiles,chosenprofiles,mlmodel,feature_function):\n",
    "    ht_error = []\n",
    "    crit_error = []\n",
    "    regr_error = []\n",
    "    obs_std = []\n",
    "    for profile in np.asarray(profiles)[~chosenprofiles]:\n",
    "        if profile[\"name\"] in names.keys():\n",
    "            depths=np.asarray(names[profile[\"name\"]][\"depths\"])\n",
    "            if len(depths)>0:\n",
    "                h = HolteAndTalley(profile[\"pressures\"],profile[\"temperatures\"],profile[\"salinities\"],profile[\"densities\"])\n",
    "                X = np.asarray([feature_function(profile)])\n",
    "                regr_out = np.round(mlmodel.predict(X)[0])\n",
    "                regr_error.append((regr_out-np.mean(depths)))\n",
    "                regr_error[-1] = np.abs(regr_error[-1]/np.mean(depths))\n",
    "                g = interpolate.interp1d(profile[\"pressures\"],profile[\"densities\"])\n",
    "                ht_error.append((h.densityMLD-np.mean(depths)))\n",
    "                ht_error[-1] = np.abs(ht_error[-1]/np.mean(depths))\n",
    "                obs_std.append(np.std(depths)/np.mean(depths))\n",
    "                try:\n",
    "                    #plt.scatter(f(h.temp.TTMLD),h.temp.TTMLD,color=\"orange\")\n",
    "                    crit_error.append((h.density.DThresholdPressure-np.mean(depths)))\n",
    "                    crit_error[-1] =np.abs(crit_error[-1]/np.mean(depths))\n",
    "                except:\n",
    "                    crit_error.append(np.nan)\n",
    "                    print(\"out of range\")\n",
    "    error = np.asarray([regr_error,ht_error,crit_error,obs_std])*100\n",
    "    plt.close()\n",
    "    fig, ax = plt.subplots(figsize=(12,15))\n",
    "    ax.set_ylabel(\"Percent Of Mean Visually Identified Mixed Layer\")\n",
    "    labels = [\"RF Error\",\"H&T (Density) Error\",\"DBM (Density) Error\",\"Obs. STDEV\"]\n",
    "    ax.set_xticklabels(labels, rotation=45, ha='right')\n",
    "    ax.boxplot(error.T,labels=[\"RF Error\",\"H&T (Density) Error\",\"Density Thresh Error\",\"Obs. STDEV\"])\n",
    "    plt.title(\"Comparison of Random Forest Model and Existing Mixed Layer Depth Algorithms\")\n",
    "\n",
    "\n"
   ]
  },
  {
   "cell_type": "code",
   "execution_count": 9,
   "id": "f599b3f7",
   "metadata": {
    "scrolled": true
   },
   "outputs": [
    {
     "name": "stderr",
     "output_type": "stream",
     "text": [
      "/home/garrett/micromamba/lib/python3.7/site-packages/ipykernel_launcher.py:31: UserWarning: FixedFormatter should only be used together with FixedLocator\n"
     ]
    },
    {
     "data": {
      "image/png": "[encoded data removed]",
      "text/plain": [
       "<Figure size 864x1080 with 1 Axes>"
      ]
     },
     "metadata": {
      "needs_background": "light"
     },
     "output_type": "display_data"
    }
   ],
   "source": [
    "error_dist_figure(profiles,chosenprofiles,regr,ht_features_reduced)\n"
   ]
  },
  {
   "cell_type": "markdown",
   "id": "733de279",
   "metadata": {},
   "source": [
    "# Figure 2) Standard deviation of oceanographer responses"
   ]
  },
  {
   "cell_type": "code",
   "execution_count": 10,
   "id": "9bc5a0b0",
   "metadata": {},
   "outputs": [],
   "source": [
    "def obs_std_error(profiles):\n",
    "    with open('../MLDIdentifierTool/json_generator/profiles.json') as f:\n",
    "        profiles = json.load(f)\n",
    "        obs_std=[]\n",
    "        obs_std_norm=[]\n",
    "        lats = []\n",
    "        for profile in np.asarray(profiles)[~chosenprofiles]:\n",
    "            depths = names[profile[\"name\"]][\"depths\"]\n",
    "            depths=np.asarray(depths)\n",
    "            if len(depths)>0:\n",
    "                obs_std.append(np.std(depths))\n",
    "                obs_std_norm.append((np.std(depths)/np.nanmean(depths))*100)\n",
    "                lats.append(profile[\"lat\"])\n",
    "        obs_std = np.asarray(obs_std)\n",
    "        obs_std_norm = np.asarray(obs_std_norm)\n",
    "        lats = np.asarray(lats)\n",
    "        plt.close()\n",
    "        fig, ((ax1,ax2),(ax3,ax4),(ax5,ax6)) = plt.subplots(3,2,figsize=(14,8))\n",
    "        ax1.hist(obs_std,color=\"black\")\n",
    "        ax1.axvline(x=np.nanmean(obs_std),color='red')\n",
    "        ax1.axvline(x=np.nanmedian(obs_std),color='blue')\n",
    "        print(np.median(obs_std))\n",
    "        ax3.hist(obs_std[np.abs(lats)>50],color=\"black\")\n",
    "        ax3.axvline(x=np.nanmean(obs_std[np.abs(lats)>50]),color='red')\n",
    "        ax3.axvline(x=np.nanmedian(obs_std[np.abs(lats)>50]),color='blue')\n",
    "        ax5.hist(obs_std[np.abs(lats)<50],color=\"black\")\n",
    "        ax5.axvline(x=np.nanmean(obs_std[np.abs(lats)<50]),color='red')\n",
    "        ax5.axvline(x=np.nanmedian(obs_std[np.abs(lats)<50]),color='blue')\n",
    "\n",
    "        ax2.hist(obs_std_norm,color=\"black\")\n",
    "        ax2.axvline(x=np.nanmean(obs_std_norm),color='red')\n",
    "        ax2.axvline(x=np.nanmedian(obs_std_norm),color='blue')\n",
    "\n",
    "        ax4.hist(obs_std_norm[np.abs(lats)>50],color=\"black\")\n",
    "        ax4.axvline(x=np.nanmean(obs_std_norm[np.abs(lats)>50]),color='red')\n",
    "        ax4.axvline(x=np.nanmedian(obs_std_norm[np.abs(lats)>50]),color='blue')\n",
    "\n",
    "        ax6.hist(obs_std_norm[np.abs(lats)<50],color=\"black\")\n",
    "        ax6.axvline(x=np.nanmean(obs_std_norm[np.abs(lats)<50]),color='red')\n",
    "        ax6.axvline(x=np.nanmedian(obs_std_norm[np.abs(lats)<50]),color='blue')\n",
    "        ax6.set_xlabel(\"Standard Deviation As Perecentage of Mean\")\n",
    "        ax5.set_xlabel(\"Standard Deviation in Dbar\")\n",
    "        ax1.set_xlim(0,100)\n",
    "        ax3.set_xlim(0,100)\n",
    "        ax5.set_xlim(0,100)\n",
    "        ax2.set_xlim(0,200)\n",
    "        ax4.set_xlim(0,200)\n",
    "        ax6.set_xlim(0,200)"
   ]
  },
  {
   "cell_type": "code",
   "execution_count": 11,
   "id": "6a1966f1",
   "metadata": {
    "scrolled": true
   },
   "outputs": [
    {
     "name": "stdout",
     "output_type": "stream",
     "text": [
      "15.027013498825292\n"
     ]
    },
    {
     "data": {
      "image/png": "[encoded data removed]",
      "text/plain": [
       "<Figure size 1008x576 with 6 Axes>"
      ]
     },
     "metadata": {
      "needs_background": "light"
     },
     "output_type": "display_data"
    }
   ],
   "source": [
    "obs_std_error(profiles)"
   ]
  },
  {
   "cell_type": "markdown",
   "id": "54105052",
   "metadata": {},
   "source": [
    "# Figure 4.) Algorithm sensitivity figure (This one can take a long time)"
   ]
  },
  {
   "cell_type": "code",
   "execution_count": 12,
   "id": "59d8570a",
   "metadata": {},
   "outputs": [],
   "source": [
    "\n",
    "def sensitivity_figure(profiles,names):\n",
    "    ht_error = []\n",
    "    regr_error = []\n",
    "    thresh_error = []\n",
    "    test_profiles = []\n",
    "    for profile in np.asarray(profiles)[~chosenprofiles]:\n",
    "        test_profiles.append(profile)\n",
    "    plt.close()\n",
    "    n_iter = 25\n",
    "    for profile in test_profiles:\n",
    "        orig_pressures = profile[\"pressures\"]\n",
    "        orig_salinities = profile[\"salinities\"]\n",
    "        orig_temperatures = profile[\"temperatures\"]\n",
    "        orig_densities = profile[\"densities\"]\n",
    "        ht_results = []\n",
    "        thresh_results = []\n",
    "        regr_results = []\n",
    "        for l in range(n_iter):\n",
    "            depths = names[profile[\"name\"]][\"depths\"]\n",
    "            profile[\"temperatures\"] = np.asarray(orig_temperatures) + np.random.normal(0,0.002*0.5,size=len(orig_temperatures))\n",
    "            profile[\"salinities\"] = np.asarray(orig_salinities) + np.random.normal(0,0.01*0.5,size=len(orig_salinities))\n",
    "            profile[\"densities\"] = gsw.sigma0(profile[\"salinities\"],profile[\"temperatures\"])\n",
    "            h = HolteAndTalley(profile[\"pressures\"],profile[\"temperatures\"],profile[\"salinities\"],profile[\"densities\"])\n",
    "            X = np.asarray([ht_features_reduced(profile)])\n",
    "            regr_out = np.round(regr.predict(X)[0])\n",
    "            ht_results.append(h.densityMLD)\n",
    "            thresh_results.append(h.density.DThresholdPressure)\n",
    "            regr_results.append(regr_out)\n",
    "        ht_error.append(np.std(ht_results))\n",
    "        regr_error.append(np.std(regr_results))\n",
    "        thresh_error.append(np.std(thresh_results))\n",
    "    fig, (ax1,ax2,ax3) = plt.subplots(3,1,figsize=(10,10))\n",
    "    ax1.hist(ht_error,range=(0,50),bins=20,color=\"red\",label=\"Holte and Talley\",alpha=0.3)\n",
    "    ax1.set_ylim(0,60)\n",
    "    ax2.set_ylim(0,60)\n",
    "    ax3.set_ylim(0,60)\n",
    "    ax2.hist(regr_error,range=(0,50),bins=20,color=\"blue\",label = \"Random Forest Method\",alpha=0.3)\n",
    "    ax3.hist(thresh_error,range=(0,50),bins=20,color=\"green\", label = \"Density Threshold Method\",alpha=0.3)\n",
    "\n"
   ]
  },
  {
   "cell_type": "code",
   "execution_count": 13,
   "id": "05871498",
   "metadata": {
    "scrolled": true
   },
   "outputs": [
    {
     "data": {
      "image/png": "[encoded data removed]",
      "text/plain": [
       "<Figure size 720x720 with 3 Axes>"
      ]
     },
     "metadata": {
      "needs_background": "light"
     },
     "output_type": "display_data"
    }
   ],
   "source": [
    "sensitivity_figure(profiles,names)"
   ]
  },
  {
   "cell_type": "code",
   "execution_count": 60,
   "id": "06b8f77d",
   "metadata": {},
   "outputs": [
    {
     "name": "stdout",
     "output_type": "stream",
     "text": [
      "2.042407542932745 | 0.7542472332656506 1.12583302491977\n",
      "0.0 | nan nan\n",
      "33.42551878613777 | 10.801234497346433 13.423393758658799\n",
      "3.499271061118826 | 0.0 0.0\n",
      "40.14152740270632 | 0.0 3.569256482341209\n",
      "8.87323926196065 | 0.8806305718527109 0.0\n",
      "3.9422998864954106 | 1.3717142559585795 3.0\n",
      "7.158910531638177 | 0.0 4.763139720814412\n",
      "0.0 | nan nan\n",
      "29.67532645144784 | 9.574619226545426 0.5\n",
      "19.675946156229873 | 4.5 3.6\n",
      "3.2702786153816037 | 0.0 0.3199999999999989\n",
      "5.363709071155891 | 3.4081601422990024 2.5834860169933154\n",
      "16.397603144633333 | 0.5 1.0500000000000007\n",
      "4.182926607053966 | 3.163331577098215 0.3200000000000017\n",
      "1.7754840889177235 | 1.5556349186104041 0.8328265125462803\n",
      "0.9068897284630787 | 0.5629165124598846 0.3299831645537227\n",
      "10.343597053249901 | 3.3301651610693432 3.6849543944109944\n",
      "6.018490028422596 | 0.0 3.499271061118826\n",
      "0.0 | nan nan\n",
      "17.350724893242578 | 1.9702474463883979 6.2178452859491475\n",
      "2.753550583578688 | 2.0981473309141596 1.0615436872781088\n",
      "6.989525691186428 | 4.233423555469024 1.6083117442419745\n",
      "3.59687364248454 | 0.9035079029052512 0.0\n",
      "14.519259240363775 | 0.0 0.0\n",
      "0.0 | nan nan\n",
      "9.888495525103908 | 8.881784197001252e-16 0.0\n",
      "23.182039141876846 | 7.304488726499314 0.0\n",
      "8.029805587794625 | 0.0 4.750000000000001\n",
      "27.160229298655704 | 8.530350227276722 10.700000000000003\n",
      "7.105427357601002e-15 | nan 7.105427357601002e-15\n",
      "0.0 | nan nan\n",
      "30.15498648443642 | 3.7142368739157647 23.33452377915607\n",
      "3.552713678800501e-15 | nan 3.552713678800501e-15\n",
      "2.351510153071853 | 3.552713678800501e-15 0.0\n",
      "1.2182364302548159 | 0.8956685895029596 7.105427357601002e-15\n",
      "1.3631051153728224 | 0.9093266739736604 0.0\n",
      "2.4394713378441795 | 0.0 0.0\n",
      "24.95301263387194 | 0.0 0.0\n",
      "1.86785676348292 | 1.5084944665313014 0.0\n",
      "11.470401039196492 | 3.813081671920324 0.0\n",
      "8.008467740807573 | 4.158792559812952 1.4907119849998596\n",
      "1.9595917942265404 | 0.0 0.0\n",
      "8.532746046967578 | 0.0 3.961656499776605\n",
      "1.822764147058655 | 0.0 0.0\n",
      "19.825914228604947 | 10.367118348757424 15.908790023128725\n",
      "36.98308922857701 | 7.736924453553878 0.0\n",
      "7.105427357601002e-15 | nan 7.105427357601002e-15\n",
      "2.9322972814738257 | 1.0 0.9308061022576104\n",
      "3.505620487160583 | 0.0 7.105427357601002e-15\n",
      "5.336170044498362 | 1.3423393758658797 1.6659862556700857\n",
      "42.298008080798624 | 2.305539026796474 25.98076211353316\n",
      "1.979486637221574 | 1.0 0.9797958971132712\n",
      "23.164521176193436 | 0.0 2.7271780286589284\n",
      "7.624754094395438 | 1.8261221816248276 5.149999999999999\n",
      "1.9169523136581956 | 1.9599999999999937 1.4210854715202004e-14\n",
      "16.53045598282153 | 1.0783320453366856 3.118124436259721\n",
      "85.5719165147071 | 2.847283305577832 6.604878839902811\n",
      "2.6789093120224927 | 0.0 1.6064669308765829\n",
      "2.2047165350674907 | 2.0199999999999996 0.74535599249993\n",
      "4.479366026571171 | 3.1876637212855474 1.776500930355947\n",
      "10.04172824631495 | 0.0 1.6432589570728044\n",
      "1.2675671700593407 | 0.7840000000000004 0.0\n",
      "1.3043729868748775 | 0.0 0.0\n",
      "40.04750265791617 | 26.235783322222574 18.0\n",
      "19.108620436860427 | 10.84501728905952 9.333809511662434\n",
      "18.577138877902833 | 2.92 2.2585614890899026\n",
      "5.812966110343325 | 1.4925092964534594 1.6493500403357544\n",
      "3.508556032344185 | 3.7523799854966127 0.9600000000000009\n",
      "2.9933630288059314 | 2.0199999999999996 1.7320508075688772\n",
      "1.8856180831641267 | 0.0 0.0\n",
      "44.38315108236458 | 25.169198863463482 4.320493798938574\n",
      "2.764424138283873 | 8.881784197001252e-16 0.0\n",
      "7.080768598861092 | 0.9428090415820634 1.839383954842852\n",
      "0.9035079029052512 | 0.0 0.0\n",
      "1.914051658132559 | 0.9797958971132712 0.8956685895029596\n",
      "1.5275252316519468 | 1.0 0.0\n",
      "5.785776232414302 | 1.4028740341012642 2.9393876913398134\n",
      "21.188921633721712 | 0.4703020306143702 0.9616652224137042\n",
      "0.74535599249993 | 0.0 0.0\n",
      "1.7547602894610383 | 1.0 0.0\n",
      "0.9682458365518543 | 0.0 0.0\n",
      "1.7320508075688772 | 0.0 0.0\n",
      "10.68418808333137 | 3.3469986555121287 11.8133634311129\n",
      "4.4651427748729375 | 2.0 1.3743685418725535\n",
      "2.1343747458109497 | 1.0 1.0\n",
      "2.9047375096555625 | 0.9428090415820634 1.0\n",
      "1.3845215780189197 | 0.0 0.597112393001973\n",
      "4.714045207910317 | 2.4000000000000004 0.0\n",
      "12.225236194037315 | 8.23409375705669 8.047658044425097\n",
      "35.29386094504486 | 1.4001071387576027 0.9239528607504192\n",
      "5.230280425879031 | 1.461354014452198 3.9126575225655635\n",
      "0.0 | nan nan\n",
      "3.552713678800501e-15 | 3.552713678800501e-15 nan\n",
      "2.7802377995815797 | 0.0 1.66562930679498\n",
      "3.001398850824131 | 0.0 0.9699484522385682\n",
      "3.834625869045839 | 4.02 1.3997084244475302\n",
      "13.52382253654639 | 0.9050966799187748 1.8517460045335923\n",
      "24.06475708028929 | 1.0293330513552177 1.0200000000000031\n",
      "21.051394253113024 | 6.193932514969791 1.2902092853486982\n",
      "12.552566015769322 | 0.0 2.7599999999999993\n",
      "0.8660254037844386 | 0.0 0.0\n",
      "11.967325306851155 | 0.0 7.650000000000002\n",
      "4.626942159785446 | 2.9441561703747197 0.0\n",
      "6.2897872778020085 | 2.993363028805931 5.622881823406929\n",
      "3.992179855667828 | 1.2649110640673518 2.494438257849294\n",
      "24.064242250734612 | 0.0 0.9308061022576104\n",
      "30.790925509799152 | 5.917887198053785 0.0\n",
      "4.761185659989424 | 0.0 1.4210854715202004e-14\n",
      "4.200223208354529 | 1.4210854715202004e-14 0.0\n",
      "10.76656957476072 | 0.0 1.9498348648026564\n",
      "15.648480539971812 | 0.0 3.2403973521776632\n",
      "25.21475790088019 | 6.6144891463110485 2.8015272802599682\n",
      "6.643935204380005 | 1.0 7.105427357601002e-15\n",
      "2.21472345903501 | 1.0 0.8999999999999986\n",
      "0.0 | nan nan\n",
      "0.6614378277661477 | 0.0 0.0\n",
      "2.1314806770278754 | 1.0 0.9797958971132712\n",
      "6.279928343540235 | 2.138089935299395 0.0\n",
      "1.979486637221574 | 1.0 0.9797958971132712\n",
      "1.1547005383792515 | 0.0 0.0\n",
      "2.138089935299395 | 0.0 1.0\n",
      "7.344215410784191 | 7.118052168020874 2.33238075793812\n",
      "4.897812922986283 | 0.7999999999999999 1.8999999999999986\n",
      "9.910712498212337 | 0.0 2.9393876913398134\n",
      "7.959079015533781 | 5.830951894845301 0.9428090415820634\n",
      "18.526559001329744 | 1.6866664608036768 4.761185659989424\n",
      "2.3491205475536545 | 0.0 0.0\n",
      "1.463181465164181 | 0.9668103341515446 0.5\n",
      "11.37220026096578 | 2.746925554142302 12.25\n",
      "12.426829593665474 | 1.5 3.3534807787332457\n",
      "4.239416594441326 | 3.299831645537222 1.7682972035266014\n",
      "118.89712172948323 | 21.19298232906355 27.5\n"
     ]
    },
    {
     "data": {
      "image/png": "[encoded data removed]",
      "text/plain": [
       "<Figure size 432x288 with 1 Axes>"
      ]
     },
     "metadata": {
      "needs_background": "light"
     },
     "output_type": "display_data"
    },
    {
     "data": {
      "image/png": "[encoded data removed]",
      "text/plain": [
       "<Figure size 432x288 with 111 Axes>"
      ]
     },
     "metadata": {
      "needs_background": "light"
     },
     "output_type": "display_data"
    }
   ],
   "source": [
    "def obs_std_error(profiles):\n",
    "    with open('../MLDIdentifierTool/json_generator/profiles.json') as f:\n",
    "        profiles = json.load(f)\n",
    "        obs_std=[]\n",
    "        within = []\n",
    "        obs_std_norm=[]\n",
    "        lats = []\n",
    "        for profile in np.asarray(profiles):\n",
    "            depths = names[profile[\"name\"]][\"depths\"]\n",
    "            depths=np.asarray(depths)\n",
    "            if len(depths)>5:\n",
    "                m,s = np.mean(depths),np.std(depths)\n",
    "                print(s,\"|\",np.std(depths[depths<m]),np.std(depths[depths>m]))\n",
    "                lats.append(profile[\"lat\"])\n",
    "                plt.close()\n",
    "        plt.scatter(obs_std,within)\n",
    "        fig, ax = plt.subplots(111)\n",
    "obs_std_error(profiles)"
   ]
  },
  {
   "cell_type": "code",
   "execution_count": 61,
   "id": "02f0c98e",
   "metadata": {},
   "outputs": [
    {
     "name": "stdout",
     "output_type": "stream",
     "text": [
      "100.34994001263695 10.13007467544427 10.092695372549567\n"
     ]
    },
    {
     "data": {
      "image/png": "[encoded data removed]",
      "text/plain": [
       "<Figure size 432x288 with 1 Axes>"
      ]
     },
     "metadata": {
      "needs_background": "light"
     },
     "output_type": "display_data"
    }
   ],
   "source": [
    "g = np.concatenate((np.random.normal(-100,10,10000),np.random.normal(100,10,10000)))\n",
    "plt.hist(g,bins=20)\n",
    "s,m = np.std(g),np.mean(g)\n",
    "print(s,np.std(g[g<m]),np.std(g[g>m]))"
   ]
  }
 ],
 "metadata": {
  "kernelspec": {
   "display_name": "Python 3 (ipykernel)",
   "language": "python",
   "name": "python3"
  },
  "language_info": {
   "codemirror_mode": {
    "name": "ipython",
    "version": 3
   },
   "file_extension": ".py",
   "mimetype": "text/x-python",
   "name": "python",
   "nbconvert_exporter": "python",
   "pygments_lexer": "ipython3",
   "version": "3.7.12"
  }
 },
 "nbformat": 4,
 "nbformat_minor": 5
}
